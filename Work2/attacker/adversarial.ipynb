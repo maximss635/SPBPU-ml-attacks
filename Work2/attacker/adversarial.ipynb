{
 "cells": [
  {
   "cell_type": "code",
   "execution_count": 15,
   "id": "solar-action",
   "metadata": {},
   "outputs": [],
   "source": [
    "import foolbox as fb\n",
    "import pandas as pd\n",
    "import eagerpy as ep\n",
    "import numpy as np"
   ]
  },
  {
   "cell_type": "code",
   "execution_count": 2,
   "id": "portuguese-extent",
   "metadata": {},
   "outputs": [],
   "source": [
    "from tensorflow.keras.models import load_model"
   ]
  },
  {
   "cell_type": "code",
   "execution_count": 3,
   "id": "challenging-attribute",
   "metadata": {},
   "outputs": [],
   "source": [
    "# White-box model\n",
    "model = load_model('../victim/model.h5')"
   ]
  },
  {
   "cell_type": "code",
   "execution_count": 4,
   "id": "aggressive-toyota",
   "metadata": {},
   "outputs": [
    {
     "name": "stdout",
     "output_type": "stream",
     "text": [
      "WARNING:tensorflow:From /home/maxim/.local/lib/python3.9/site-packages/foolbox/models/tensorflow.py:13: is_gpu_available (from tensorflow.python.framework.test_util) is deprecated and will be removed in a future version.\n",
      "Instructions for updating:\n",
      "Use `tf.config.list_physical_devices('GPU')` instead.\n"
     ]
    }
   ],
   "source": [
    "# Wrap to fb model\n",
    "attacker_model = fb.models.TensorFlowModel(model, bounds=(0, 1))"
   ]
  },
  {
   "cell_type": "code",
   "execution_count": 28,
   "id": "independent-telling",
   "metadata": {},
   "outputs": [],
   "source": [
    "X_src = pd.read_csv('../victim/X.csv').values\n",
    "y_src = pd.read_csv('../victim/y.csv').values"
   ]
  },
  {
   "cell_type": "code",
   "execution_count": 29,
   "id": "formed-thong",
   "metadata": {},
   "outputs": [],
   "source": [
    "df = pd.DataFrame(X_src)\n",
    "df['y'] = y_src\n",
    "\n",
    "df = df[df.y == 1]"
   ]
  },
  {
   "cell_type": "code",
   "execution_count": 30,
   "id": "bright-aquatic",
   "metadata": {},
   "outputs": [],
   "source": [
    "X_src = df.drop('y', axis=1).values\n",
    "y_src = df.y.values"
   ]
  },
  {
   "cell_type": "code",
   "execution_count": 31,
   "id": "choice-optics",
   "metadata": {},
   "outputs": [],
   "source": [
    "X_src = ep.from_numpy(attacker_model.dummy, X_src)\n",
    "y_src = ep.from_numpy(attacker_model.dummy, y_src)"
   ]
  },
  {
   "cell_type": "code",
   "execution_count": 37,
   "id": "decreased-affect",
   "metadata": {},
   "outputs": [],
   "source": [
    "# Target\n",
    "target = 0\n",
    "\n",
    "criterion = fb.criteria.TargetedMisclassification(\n",
    "    ep.from_numpy(attacker_model.dummy, np.array([target] * len(df)))\n",
    ")"
   ]
  },
  {
   "cell_type": "code",
   "execution_count": 54,
   "id": "organizational-material",
   "metadata": {},
   "outputs": [],
   "source": [
    "attack = fb.attacks.LinfPGD()\n",
    "raw_adversarial, clipped_adversarial, success = attack(\n",
    "    attacker_model,\n",
    "    X_src,\n",
    "    criterion=criterion,\n",
    "    epsilons=0.0000000001\n",
    ")"
   ]
  },
  {
   "cell_type": "code",
   "execution_count": 55,
   "id": "viral-updating",
   "metadata": {},
   "outputs": [
    {
     "data": {
      "text/plain": [
       "TensorFlowTensor(<tf.Tensor: shape=(19084,), dtype=bool, numpy=array([ True,  True,  True, ...,  True,  True,  True])>)"
      ]
     },
     "execution_count": 55,
     "metadata": {},
     "output_type": "execute_result"
    }
   ],
   "source": [
    "success"
   ]
  },
  {
   "cell_type": "code",
   "execution_count": null,
   "id": "amateur-bulgarian",
   "metadata": {},
   "outputs": [],
   "source": []
  },
  {
   "cell_type": "code",
   "execution_count": null,
   "id": "fluid-western",
   "metadata": {},
   "outputs": [],
   "source": []
  }
 ],
 "metadata": {
  "kernelspec": {
   "display_name": "Python 3",
   "language": "python",
   "name": "python3"
  },
  "language_info": {
   "codemirror_mode": {
    "name": "ipython",
    "version": 3
   },
   "file_extension": ".py",
   "mimetype": "text/x-python",
   "name": "python",
   "nbconvert_exporter": "python",
   "pygments_lexer": "ipython3",
   "version": "3.9.4"
  }
 },
 "nbformat": 4,
 "nbformat_minor": 5
}
